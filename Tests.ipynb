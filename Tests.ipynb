{
  "nbformat": 4,
  "nbformat_minor": 0,
  "metadata": {
    "colab": {
      "provenance": [],
      "authorship_tag": "ABX9TyO4MsdCpcBK+8lgjh2fjTfv",
      "include_colab_link": true
    },
    "kernelspec": {
      "name": "python3",
      "display_name": "Python 3"
    },
    "language_info": {
      "name": "python"
    }
  },
  "cells": [
    {
      "cell_type": "markdown",
      "metadata": {
        "id": "view-in-github",
        "colab_type": "text"
      },
      "source": [
        "<a href=\"https://colab.research.google.com/github/dsid271/GeomScale/blob/main/Tests.ipynb\" target=\"_parent\"><img src=\"https://colab.research.google.com/assets/colab-badge.svg\" alt=\"Open In Colab\"/></a>"
      ]
    },
    {
      "cell_type": "code",
      "execution_count": null,
      "metadata": {
        "id": "eJ9cMnkUddvm"
      },
      "outputs": [],
      "source": [
        "import numpy as np\n",
        "\n",
        "# Parameters\n",
        "T = 100 # Number of time steps\n",
        "n = 5    # Number of variables\n",
        "\n",
        "# Generate a random mean vector\n",
        "mean_vector = np.random.rand(n)\n",
        "\n",
        "# Generate a random covariance matrix\n",
        "cov_matrix = np.random.rand(n, n)\n",
        "cov_matrix = np.dot(cov_matrix, cov_matrix.T) # Ensure it's positive definite\n",
        "\n",
        "# Generate the multivariate Gaussian time series\n",
        "X = np.random.multivariate_normal(mean_vector, cov_matrix, T)"
      ]
    },
    {
      "cell_type": "code",
      "source": [
        "# Generate a random mean for the univariate series\n",
        "mean_y = np.random.rand()\n",
        "\n",
        "# Generate the univariate Gaussian time series\n",
        "y = np.random.normal(mean_y, 1, T) # Assuming a standard deviation of 1 for simplicity"
      ],
      "metadata": {
        "id": "7lbknx14hfDg"
      },
      "execution_count": null,
      "outputs": []
    },
    {
      "cell_type": "code",
      "source": [
        "pip install cvxpy"
      ],
      "metadata": {
        "id": "Ja3z8lnHdfmZ",
        "colab": {
          "base_uri": "https://localhost:8080/"
        },
        "outputId": "fcc15897-e90f-40c1-f2ae-d347b3d3105a"
      },
      "execution_count": null,
      "outputs": [
        {
          "output_type": "stream",
          "name": "stdout",
          "text": [
            "Requirement already satisfied: cvxpy in /usr/local/lib/python3.10/dist-packages (1.3.3)\n",
            "Requirement already satisfied: osqp>=0.4.1 in /usr/local/lib/python3.10/dist-packages (from cvxpy) (0.6.2.post8)\n",
            "Requirement already satisfied: ecos>=2 in /usr/local/lib/python3.10/dist-packages (from cvxpy) (2.0.13)\n",
            "Requirement already satisfied: scs>=1.1.6 in /usr/local/lib/python3.10/dist-packages (from cvxpy) (3.2.4.post1)\n",
            "Requirement already satisfied: numpy>=1.15 in /usr/local/lib/python3.10/dist-packages (from cvxpy) (1.25.2)\n",
            "Requirement already satisfied: scipy>=1.1.0 in /usr/local/lib/python3.10/dist-packages (from cvxpy) (1.11.4)\n",
            "Requirement already satisfied: setuptools>65.5.1 in /usr/local/lib/python3.10/dist-packages (from cvxpy) (67.7.2)\n",
            "Requirement already satisfied: qdldl in /usr/local/lib/python3.10/dist-packages (from osqp>=0.4.1->cvxpy) (0.1.7.post0)\n"
          ]
        }
      ]
    },
    {
      "cell_type": "code",
      "source": [
        "import cvxpy as cp\n",
        "\n",
        "# Define the optimization problem\n",
        "w = cp.Variable(n)\n",
        "objective = cp.Minimize(cp.sum_squares(X @ w - y))\n",
        "constraints = [cp.sum(w) == 1, w >= 0]\n",
        "problem = cp.Problem(objective, constraints)\n",
        "\n",
        "# Solve the optimization problem\n",
        "problem.solve()\n",
        "\n",
        "# Print the optimal w\n",
        "print(\"Optimal w:\", w.value)"
      ],
      "metadata": {
        "colab": {
          "base_uri": "https://localhost:8080/"
        },
        "id": "-uA97ckIhk8g",
        "outputId": "84e89d77-4191-4dab-fe8f-785b3f8adacc"
      },
      "execution_count": null,
      "outputs": [
        {
          "output_type": "stream",
          "name": "stdout",
          "text": [
            "Optimal w: [ 1.02231278e-17  8.47040445e-02 -9.16876160e-18  9.15295956e-01\n",
            " -9.22610351e-18]\n"
          ]
        }
      ]
    }
  ]
}